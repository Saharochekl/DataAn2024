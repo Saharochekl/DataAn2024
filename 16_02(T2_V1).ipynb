{
 "cells": [
  {
   "cell_type": "code",
   "execution_count": 11,
   "id": "initial_id",
   "metadata": {
    "collapsed": true,
    "ExecuteTime": {
     "end_time": "2024-02-29T18:13:54.907515Z",
     "start_time": "2024-02-29T18:13:54.835831Z"
    }
   },
   "outputs": [
    {
     "name": "stdout",
     "output_type": "stream",
     "text": [
      "11:  0.3568\n",
      "1: 0.4281951924473407\n",
      "2: 0.2223076429477669\n",
      "3: 1.0\n"
     ]
    }
   ],
   "source": [
    "import numpy as np\n",
    "import scipy.stats as sps\n",
    "import matplotlib.pyplot as plt\n",
    "import math\n",
    "from scipy.stats import bws_test\n",
    "\n",
    "norm_1 = np.random.normal(0, 1, 50)\n",
    "norm_2 = np.random.normal(0, 1, 50)\n",
    "\n",
    "s11 = np.random.normal(0, 1, 50)\n",
    "s12 = np.random.normal(0, 1, 50)\n",
    "s21 = np.random.normal(0, 1, 50)\n",
    "s22 = np.random.normal(0, 0.1, 50)\n",
    "s31 = np.random.normal(0, 1, 50)\n",
    "s32 = np.random.default_rng().laplace(0, 2, 50)\n",
    "test1 = sps.ttest_ind(s11, s12)\n",
    "test2=sps.ttest_ind(s21, s22)\n",
    "test3=sps.ttest_ind(s31, s31)\n",
    "test4 = bws_test(norm_1, norm_2).pvalue\n",
    "print('11: ', test4)\n",
    "print('1:', test1.pvalue)\n",
    "print('2:', test2.pvalue)\n",
    "print('3:', test3.pvalue)"
   ]
  },
  {
   "cell_type": "code",
   "outputs": [
    {
     "name": "stdout",
     "output_type": "stream",
     "text": [
      "p-value гипотезы, что у мальчиков и девочек одинаковые длины ног: 0.08359611722817971\n",
      "p-value гипотезы, что у мальчиков и девочек одинаковая ширина ног: 0.14836461642847742\n",
      "p-value гипотезы, что у правшей и левшей одинаковая ширина ног: 0.1907001745053002\n",
      "p-value гипотезы, что чем больше возраст, тем меньше в целом стопа: 0.003983492779736146\n"
     ]
    }
   ],
   "source": [
    "import numpy as np\n",
    "import scipy.stats as sps\n",
    "import matplotlib.pyplot as plt\n",
    "import math\n",
    "\n",
    "f = open('kidsfeet.dat.txt')\n",
    "lines = f.readlines()\n",
    "f.close()\n",
    "\n",
    "month = []\n",
    "year = []\n",
    "length = []\n",
    "width = []\n",
    "sex = []\n",
    "leg = []\n",
    "R_L = []\n",
    "for line in lines:\n",
    "  words=line.split()\n",
    "  month.append(int(words[0]))\n",
    "  year.append(int(words[1]))\n",
    "  length.append(float(words[2]))\n",
    "  width.append(float(words[3]))\n",
    "  sex.append(str(words[4]))\n",
    "  leg.append(str(words[5]))\n",
    "  R_L.append(str(words[6]))\n",
    "\n",
    "N = len(sex)\n",
    "boy = []\n",
    "girl = []\n",
    "\n",
    "for i in range(N):\n",
    "  if sex[i] == \"B\":\n",
    "    boy.append(length[i])\n",
    "  else:\n",
    "    girl.append(length[i])\n",
    "\n",
    "test = sps.mannwhitneyu(girl, boy, alternative = 'two-sided')\n",
    "print('p-value гипотезы, что у мальчиков и девочек одинаковые длины ног:', test.pvalue)\n",
    "\n",
    "for i in range(N):\n",
    "  if sex[i] == \"B\":\n",
    "    boy.append(width[i])\n",
    "  else:\n",
    "    girl.append(width[i])\n",
    "\n",
    "test = sps.mannwhitneyu(girl, boy, alternative = 'two-sided')\n",
    "print('p-value гипотезы, что у мальчиков и девочек одинаковая ширина ног:', test.pvalue)\n",
    "\n",
    "left = []\n",
    "right = []\n",
    "\n",
    "for i in range(N):\n",
    "  if R_L[i] == \"R\":\n",
    "    right.append(width[i])\n",
    "  else:\n",
    "    left.append(width[i])\n",
    "\n",
    "\n",
    "test = sps.mannwhitneyu(right, left, alternative = 'two-sided')\n",
    "print('p-value гипотезы, что у правшей и левшей одинаковая ширина ног:', test.pvalue)\n",
    "\n",
    "ageinmoth = []\n",
    "for i in range(N):\n",
    "  ageinmoth.append((100-year[i])*12 + 12-month[i])\n",
    "\n",
    "age_and_len = [0]*N\n",
    "\n",
    "for i in range(N):\n",
    "  age_and_len[i] = [0]*2\n",
    "  \n",
    "for i in range(N):\n",
    "  age_and_len[i][0] = ageinmoth[i]\n",
    "  age_and_len[i][1] = length[i]\n",
    "  \n",
    "age_and_len = sorted(age_and_len, key=lambda x:x[0], reverse=True)\n",
    "hight = []\n",
    "low = []\n",
    "\n",
    "for i in range(N):\n",
    "  if(i<19):\n",
    "    low.append(age_and_len[i][1])\n",
    "  if(i>19):\n",
    "    hight.append(age_and_len[i][1])\n",
    "\n",
    "test = sps.mannwhitneyu(hight, low, alternative = 'two-sided')\n",
    "print('p-value гипотезы, что чем больше возраст, тем меньше в целом стопа:', test.pvalue)\n",
    "\n",
    "\n",
    "#print(age_and_len)\n",
    "\n"
   ],
   "metadata": {
    "collapsed": false,
    "ExecuteTime": {
     "end_time": "2024-02-29T19:34:26.327373Z",
     "start_time": "2024-02-29T19:34:26.316917Z"
    }
   },
   "id": "7255b20041c1d7c",
   "execution_count": 30
  },
  {
   "cell_type": "markdown",
   "source": [
    "ЗАДАЧА №2"
   ],
   "metadata": {
    "collapsed": false
   },
   "id": "29a10de5c81ba941"
  },
  {
   "cell_type": "code",
   "outputs": [
    {
     "name": "stdout",
     "output_type": "stream",
     "text": [
      "1: 0.905\n",
      "2: 0.9082\n",
      "3: 0.0743\n"
     ]
    }
   ],
   "source": [
    "import numpy as np\n",
    "import scipy.stats\n",
    "from scipy.stats import bws_test\n",
    "import matplotlib.pyplot as plt\n",
    "import math\n",
    "\n",
    "s11 = np.random.normal(0, 1, 50)\n",
    "s12 = np.random.normal(0, 1, 50)\n",
    "s21 = np.random.normal(0, 1, 50)\n",
    "s22 = np.random.normal(0.1, 1, 50)\n",
    "s31 = np.random.normal(0, 1, 50)\n",
    "s32 = np.random.default_rng().laplace(0, 2**(1/2), 50)\n",
    "\n",
    "test1 = bws_test(s21, s22)\n",
    "test2 = bws_test(s21, s22)\n",
    "test3 = bws_test(s31, s32)\n",
    "print('1:', test1.pvalue)\n",
    "print('2:', test2.pvalue)\n",
    "print('3:', test3.pvalue)"
   ],
   "metadata": {
    "collapsed": false,
    "ExecuteTime": {
     "end_time": "2024-03-01T07:59:17.132729Z",
     "start_time": "2024-03-01T07:59:16.940537Z"
    }
   },
   "id": "60a3c5a74108cddc",
   "execution_count": 65
  },
  {
   "cell_type": "markdown",
   "source": [],
   "metadata": {
    "collapsed": false
   },
   "id": "b243b41c5eb983d2"
  },
  {
   "cell_type": "code",
   "outputs": [
    {
     "name": "stdout",
     "output_type": "stream",
     "text": [
      "0.14653111378242054\n",
      "0.14653111378242054\n"
     ]
    }
   ],
   "source": [
    "import numpy as np\n",
    "import scipy.stats as sps\n",
    "import matplotlib.pyplot as plt\n",
    "import math\n",
    "import hyppo\n",
    "\n",
    "f = open('vitaminc.txt')\n",
    "lines = f.readlines()\n",
    "f.close()\n",
    "\n",
    "lines.pop(0)\n",
    "Subject = []\n",
    "Treatment = []\n",
    "Endurance = []\n",
    "Order = []\n",
    "for line in lines:\n",
    "  words = line.split()\n",
    "  Subject.append(int(words[0]))\n",
    "  Treatment.append(str(words[1]))\n",
    "  Endurance.append(int(words[2]))\n",
    "  Order.append(int(words[3]))\n",
    "\n",
    "N = len(Subject)\n",
    "Vitamin = []\n",
    "Placebo = []\n",
    "\n",
    "for i in range (N):\n",
    "  if Treatment[i] == \"Vitamin\":\n",
    "    Vitamin.append(Endurance[i])\n",
    "  else:\n",
    "    Placebo.append(Endurance[i])\n",
    "\n",
    "test = sps.mannwhitneyu(Vitamin, Placebo, alternative = 'two-sided')\n",
    "print(test.pvalue)\n",
    "\n",
    "for i in range(len(Vitamin)):\n",
    "  Vitamin[i]= math.log(Vitamin[i])\n",
    "  Placebo[i] = math.log(Placebo[i])\n",
    "\n",
    "test = sps.mannwhitneyu(Vitamin, Placebo, alternative = 'two-sided')\n",
    "print(test.pvalue)"
   ],
   "metadata": {
    "collapsed": false,
    "ExecuteTime": {
     "end_time": "2024-02-29T19:52:10.500992Z",
     "start_time": "2024-02-29T19:52:10.492495Z"
    }
   },
   "id": "1c2e7d7350081c8b",
   "execution_count": 34
  },
  {
   "cell_type": "code",
   "outputs": [],
   "source": [],
   "metadata": {
    "collapsed": false
   },
   "id": "f8b8be9dc4209322",
   "execution_count": null
  },
  {
   "cell_type": "markdown",
   "source": [
    "Задача№7"
   ],
   "metadata": {
    "collapsed": false
   },
   "id": "f4e7d500766d7c62"
  },
  {
   "cell_type": "code",
   "outputs": [
    {
     "name": "stdout",
     "output_type": "stream",
     "text": [
      "[145, 185, 387, 593, 248, 245, 349, 902, 159, 122, 264, 1052, 218, 117, 185]\n",
      "[417, 279, 678, 636, 170, 699, 372, 582, 363, 258, 288, 526, 180, 172, 278]\n",
      "0.14653111378242054\n",
      "Test0: 0.14653111378242054\n"
     ]
    },
    {
     "ename": "ValueError",
     "evalue": "x and y must be ndarrays",
     "output_type": "error",
     "traceback": [
      "\u001B[0;31m---------------------------------------------------------------------------\u001B[0m",
      "\u001B[0;31mValueError\u001B[0m                                Traceback (most recent call last)",
      "Cell \u001B[0;32mIn[68], line 55\u001B[0m\n\u001B[1;32m     53\u001B[0m x \u001B[38;5;241m=\u001B[39m np\u001B[38;5;241m.\u001B[39marray(Vitamin)\n\u001B[1;32m     54\u001B[0m y \u001B[38;5;241m=\u001B[39m np\u001B[38;5;241m.\u001B[39marray(Placebo)\n\u001B[0;32m---> 55\u001B[0m test1 \u001B[38;5;241m=\u001B[39m \u001B[43mhyppo\u001B[49m\u001B[38;5;241;43m.\u001B[39;49m\u001B[43mksample\u001B[49m\u001B[38;5;241;43m.\u001B[39;49m\u001B[43mKSample\u001B[49m\u001B[43m(\u001B[49m\u001B[38;5;124;43m'\u001B[39;49m\u001B[38;5;124;43mHHG\u001B[39;49m\u001B[38;5;124;43m'\u001B[39;49m\u001B[43m)\u001B[49m\u001B[38;5;241;43m.\u001B[39;49m\u001B[43mtest\u001B[49m\u001B[43m(\u001B[49m\u001B[43mVitamin\u001B[49m\u001B[43m,\u001B[49m\u001B[43mPlacebo\u001B[49m\u001B[43m)\u001B[49m\n\u001B[1;32m     56\u001B[0m \u001B[38;5;28mprint\u001B[39m(\u001B[38;5;124m\"\u001B[39m\u001B[38;5;124mTest1: \u001B[39m\u001B[38;5;124m\"\u001B[39m,test1\u001B[38;5;241m.\u001B[39mpvalue)\n\u001B[1;32m     58\u001B[0m test1 \u001B[38;5;241m=\u001B[39m hyppo\u001B[38;5;241m.\u001B[39mksample\u001B[38;5;241m.\u001B[39mKSample(\u001B[38;5;124m'\u001B[39m\u001B[38;5;124mDcorr\u001B[39m\u001B[38;5;124m'\u001B[39m)\u001B[38;5;241m.\u001B[39mtest(x, y)\n",
      "File \u001B[0;32m~/PyCharmProjects/Андан16_02/.venv/lib/python3.9/site-packages/hyppo/ksample/ksamp.py:291\u001B[0m, in \u001B[0;36mKSample.test\u001B[0;34m(self, reps, workers, auto, random_state, *args)\u001B[0m\n\u001B[1;32m    286\u001B[0m inputs \u001B[38;5;241m=\u001B[39m \u001B[38;5;28mlist\u001B[39m(args)\n\u001B[1;32m    287\u001B[0m check_input \u001B[38;5;241m=\u001B[39m _CheckInputs(\n\u001B[1;32m    288\u001B[0m     inputs\u001B[38;5;241m=\u001B[39minputs,\n\u001B[1;32m    289\u001B[0m     indep_test\u001B[38;5;241m=\u001B[39m\u001B[38;5;28mself\u001B[39m\u001B[38;5;241m.\u001B[39mindep_test_name,\n\u001B[1;32m    290\u001B[0m )\n\u001B[0;32m--> 291\u001B[0m inputs \u001B[38;5;241m=\u001B[39m \u001B[43mcheck_input\u001B[49m\u001B[43m(\u001B[49m\u001B[43m)\u001B[49m\n\u001B[1;32m    292\u001B[0m \u001B[38;5;28;01mif\u001B[39;00m \u001B[38;5;28mself\u001B[39m\u001B[38;5;241m.\u001B[39mindep_test_name \u001B[38;5;241m==\u001B[39m \u001B[38;5;124m\"\u001B[39m\u001B[38;5;124mkmerf\u001B[39m\u001B[38;5;124m\"\u001B[39m:\n\u001B[1;32m    293\u001B[0m     u, v \u001B[38;5;241m=\u001B[39m k_sample_transform(inputs, test_type\u001B[38;5;241m=\u001B[39m\u001B[38;5;124m\"\u001B[39m\u001B[38;5;124mrf\u001B[39m\u001B[38;5;124m\"\u001B[39m)\n",
      "File \u001B[0;32m~/PyCharmProjects/Андан16_02/.venv/lib/python3.9/site-packages/hyppo/ksample/_utils.py:13\u001B[0m, in \u001B[0;36m_CheckInputs.__call__\u001B[0;34m(self)\u001B[0m\n\u001B[1;32m     12\u001B[0m \u001B[38;5;28;01mdef\u001B[39;00m \u001B[38;5;21m__call__\u001B[39m(\u001B[38;5;28mself\u001B[39m):\n\u001B[0;32m---> 13\u001B[0m     \u001B[38;5;28;43mself\u001B[39;49m\u001B[38;5;241;43m.\u001B[39;49m\u001B[43m_check_ndarray_inputs\u001B[49m\u001B[43m(\u001B[49m\u001B[43m)\u001B[49m\n\u001B[1;32m     14\u001B[0m     \u001B[38;5;28;01mfor\u001B[39;00m i \u001B[38;5;129;01min\u001B[39;00m \u001B[38;5;28mself\u001B[39m\u001B[38;5;241m.\u001B[39minputs:\n\u001B[1;32m     15\u001B[0m         contains_nan(i)\n",
      "File \u001B[0;32m~/PyCharmProjects/Андан16_02/.venv/lib/python3.9/site-packages/hyppo/ksample/_utils.py:28\u001B[0m, in \u001B[0;36m_CheckInputs._check_ndarray_inputs\u001B[0;34m(self)\u001B[0m\n\u001B[1;32m     26\u001B[0m \u001B[38;5;28;01mfor\u001B[39;00m i \u001B[38;5;129;01min\u001B[39;00m \u001B[38;5;28mself\u001B[39m\u001B[38;5;241m.\u001B[39minputs:\n\u001B[1;32m     27\u001B[0m     \u001B[38;5;28;01mif\u001B[39;00m \u001B[38;5;129;01mnot\u001B[39;00m \u001B[38;5;28misinstance\u001B[39m(i, np\u001B[38;5;241m.\u001B[39mndarray):\n\u001B[0;32m---> 28\u001B[0m         \u001B[38;5;28;01mraise\u001B[39;00m \u001B[38;5;167;01mValueError\u001B[39;00m(\u001B[38;5;124m\"\u001B[39m\u001B[38;5;124mx and y must be ndarrays\u001B[39m\u001B[38;5;124m\"\u001B[39m)\n",
      "\u001B[0;31mValueError\u001B[0m: x and y must be ndarrays"
     ]
    }
   ],
   "source": [
    "import hyppo\n",
    "import numpy as np\n",
    "import scipy.stats as sps\n",
    "import matplotlib.pyplot as plt\n",
    "import math\n",
    "\n",
    "f = open('vitaminc.txt')\n",
    "lines = f.readlines()\n",
    "f.close()\n",
    "\n",
    "lines.pop(0)\n",
    "Subject = []\n",
    "Treatment = []\n",
    "Endurance = []\n",
    "Order = []\n",
    "for line in lines:\n",
    "  words = line.split()\n",
    "  Subject.append(int(words[0]))\n",
    "  Treatment.append(str(words[1]))\n",
    "  Endurance.append(int(words[2]))\n",
    "  Order.append(int(words[3]))\n",
    "\n",
    "\n",
    "N = len(Subject)\n",
    "\n",
    "Vitamin = []\n",
    "Placebo = []\n",
    "\n",
    "for i in range(N):\n",
    "  if Treatment[i] == \"Vitamin\":\n",
    "    Vitamin.append(Endurance[i])\n",
    "  else:\n",
    "    Placebo.append(Endurance[i])\n",
    "\n",
    "print(Vitamin)\n",
    "print(Placebo)\n",
    "test = sps.mannwhitneyu(Vitamin, Placebo, alternative = 'two-sided')\n",
    "print(test.pvalue)\n",
    "\n",
    "Vitamin = []\n",
    "Placebo = []\n",
    "\n",
    "for i in range(N):\n",
    "  if Treatment[i] == \"Vitamin\":\n",
    "    Vitamin.append(math.log(Endurance[i]))\n",
    "  else:\n",
    "    Placebo.append(math.log(Endurance[i]))\n",
    "\n",
    "test = sps.mannwhitneyu(Vitamin, Placebo, alternative = 'two-sided')\n",
    "print(\"Test0:\",test.pvalue)\n",
    "\n",
    "\n",
    "x = np.array(Vitamin)\n",
    "y = np.array(Placebo)\n",
    "test1 = hyppo.ksample.KSample('HHG').test(Vitamin,Placebo)\n",
    "print(\"Test1: \",test1.pvalue)\n",
    "\n",
    "test1 = hyppo.ksample.KSample('Dcorr').test(x, y)\n",
    "print(\"Test2: \",test1.pvalue)\n",
    "\n"
   ],
   "metadata": {
    "collapsed": false,
    "ExecuteTime": {
     "end_time": "2024-03-01T08:38:52.728740Z",
     "start_time": "2024-03-01T08:38:52.679452Z"
    }
   },
   "id": "93812953701c1101",
   "execution_count": 68
  },
  {
   "cell_type": "markdown",
   "source": [
    "Задача №6\n"
   ],
   "metadata": {
    "collapsed": false
   },
   "id": "2ba139643e740426"
  },
  {
   "cell_type": "code",
   "outputs": [
    {
     "name": "stdout",
     "output_type": "stream",
     "text": [
      "А И В, \n",
      " однородность выборки: 0.017982017982017984 \n",
      " cредние: 0.0021121835862059762 \n",
      "А И C, \n",
      " однородность выборки: 0.000999000999000999 \n",
      " cредние: 8.270233345475454e-08 \n",
      "А И D, \n",
      " однородность выборки: 0.000999000999000999 \n",
      " cредние: 5.286914085521263e-06 \n",
      "B И C, \n",
      " однородность выборки: 0.000999000999000999 \n",
      " cредние: 8.394100516736364e-06 \n",
      "B И D, \n",
      " однородность выборки: 0.011988011988011988 \n",
      " cредние: 0.005768001419625011 \n",
      "C И D,\n",
      " однородность выборки: 0.008991008991008992 \n",
      " cредние: 0.001562995448398062 \n"
     ]
    }
   ],
   "source": [
    "import numpy as np\n",
    "import scipy.stats as sps\n",
    "import matplotlib.pyplot as plt\n",
    "import math\n",
    "import pandas as pd\n",
    "import hyppo\n",
    "\n",
    "data = pd.read_csv('plants.csv')\n",
    "plants = dict.fromkeys(['A', 'B', 'C', 'D'])\n",
    "plants['A'] = data[data['plant_var']=='A']\n",
    "plants['B'] = data[data['plant_var']=='B']\n",
    "plants['C'] = data[data['plant_var']=='C']\n",
    "plants['D'] = data[data['plant_var']=='D']\n",
    "\n",
    "# A_height = plants['A'][plants['A']['plant_var']=='A']\n",
    "# A_canopy_vo = plants['A'][plants['A']['plant_var']=='A']\n",
    "\n",
    "\n",
    "# print(plants['A'])\n",
    "# print(plants['D'])\n",
    "# print(plants['C'])\n",
    "\n",
    "\n",
    "A = np.array([a[2:4] for a in plants['A'].values])\n",
    "B = np.array([a[2:4] for a in plants['B'].values])\n",
    "C = np.array([a[2:4] for a in plants['C'].values])\n",
    "D = np.array([a[2:4] for a in plants['D'].values])\n",
    "\n",
    "test1 = hyppo.ksample.KSample('HHG').test(A, B)\n",
    "test2 = hyppo.ksample.MANOVA().test(A, B)\n",
    "print('А И В, \\n однородность выборки:', test1.pvalue, \"\\n\", 'cредние:', test2.pvalue, \"\\n\")\n",
    "\n",
    "test1 = hyppo.ksample.KSample('HHG').test(A, C)\n",
    "test2 = hyppo.ksample.MANOVA().test(A, C)\n",
    "print('А И C, \\n однородность выборки:', test1.pvalue, \"\\n\", 'cредние:', test2.pvalue, \"\\n\")\n",
    "\n",
    "test1 = hyppo.ksample.KSample('HHG').test(A, D)\n",
    "test2 = hyppo.ksample.MANOVA().test(A,D)\n",
    "print('А И D, \\n однородность выборки:', test1.pvalue, \"\\n\", 'cредние:', test2.pvalue, \"\\n\")\n",
    "\n",
    "test1 = hyppo.ksample.KSample('HHG').test(B, C)\n",
    "test2 = hyppo.ksample.MANOVA().test(B, C)\n",
    "print('B И C, \\n однородность выборки:', test1.pvalue, \"\\n\", 'cредние:', test2.pvalue, \"\\n\")\n",
    "\n",
    "test1 = hyppo.ksample.KSample('HHG').test(B, D)\n",
    "test2 = hyppo.ksample.MANOVA().test(B, D)\n",
    "print('B И D, \\n однородность выборки:', test1.pvalue, \"\\n\", 'cредние:', test2.pvalue, \"\\n\")\n",
    "\n",
    "test1 = hyppo.ksample.KSample('HHG').test(C, D)\n",
    "test2 = hyppo.ksample.MANOVA().test(C, D)\n",
    "print('C И D,\\n однородность выборки:', test1.pvalue, \"\\n\", 'cредние:', test2.pvalue, \"\\n\")"
   ],
   "metadata": {
    "collapsed": false,
    "ExecuteTime": {
     "end_time": "2024-03-01T08:01:09.678471Z",
     "start_time": "2024-03-01T08:01:08.076780Z"
    }
   },
   "id": "c6981535fb7f7f49",
   "execution_count": 66
  },
  {
   "cell_type": "code",
   "outputs": [],
   "source": [],
   "metadata": {
    "collapsed": false
   },
   "id": "a67b8efc580a942a"
  }
 ],
 "metadata": {
  "kernelspec": {
   "display_name": "Python 3",
   "language": "python",
   "name": "python3"
  },
  "language_info": {
   "codemirror_mode": {
    "name": "ipython",
    "version": 2
   },
   "file_extension": ".py",
   "mimetype": "text/x-python",
   "name": "python",
   "nbconvert_exporter": "python",
   "pygments_lexer": "ipython2",
   "version": "2.7.6"
  }
 },
 "nbformat": 4,
 "nbformat_minor": 5
}
