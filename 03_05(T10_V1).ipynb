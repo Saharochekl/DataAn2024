{
 "cells": [
  {
   "cell_type": "markdown",
   "source": [
    "# 1000 чертей"
   ],
   "metadata": {
    "collapsed": false
   },
   "id": "d828423ed077e296"
  },
  {
   "cell_type": "code",
   "execution_count": 9,
   "id": "initial_id",
   "metadata": {
    "collapsed": true,
    "ExecuteTime": {
     "end_time": "2024-05-05T23:19:36.394671Z",
     "start_time": "2024-05-05T23:19:36.375830Z"
    }
   },
   "outputs": [],
   "source": [
    "from scipy.interpolate import splrep, splev\n",
    "import statsmodels\n",
    "import pc\n",
    "import statsmodels.api as sm\n",
    "import statsmodels.stats.api as ssa\n",
    "import scipy\n",
    "import numpy as np\n",
    "import random\n",
    "import sklearn\n",
    "import seaborn as sns\n",
    "import scipy.stats as sps\n",
    "import matplotlib.pyplot as plt\n",
    "import math\n",
    "from scipy.stats import bws_test\n",
    "from sklearn import linear_model \n",
    "import csv\n",
    "from sklearn.linear_model import LinearRegression, HuberRegressor, RANSACRegressor\n",
    "from sklearn.metrics import mean_squared_error\n",
    "from statsmodels.regression.quantile_regression import QuantReg\n",
    "from sklearn.cluster import KMeans, DBSCAN, SpectralClustering, OPTICS, AgglomerativeClustering\n",
    "from sklearn.metrics import silhouette_score\n",
    "from sklearn.metrics import adjusted_rand_score\n",
    "from scipy.cluster.hierarchy import dendrogram, linkage\n",
    "import pandas as pd\n",
    "from scipy.linalg import eigh as sp_eigh\n",
    "from sklearn.datasets import load_iris\n",
    "from sklearn.preprocessing import StandardScaler, LabelEncoder\n",
    "from sklearn.model_selection import train_test_split\n",
    "from sklearn.discriminant_analysis import LinearDiscriminantAnalysis\n",
    "from sklearn.ensemble import RandomForestClassifier\n",
    "from sklearn.metrics import accuracy_score, confusion_matrix\n",
    "from sklearn.svm import SVC\n"
   ]
  },
  {
   "cell_type": "markdown",
   "source": [
    "# task 1"
   ],
   "metadata": {
    "collapsed": false
   },
   "id": "af7ba3f85e328ad5"
  },
  {
   "cell_type": "code",
   "outputs": [
    {
     "name": "stdout",
     "output_type": "stream",
     "text": [
      "Accuracy for LDA with Σ𝑖 = 𝐸 and 𝜇1 =(0,0), 𝜇2 =(1,1):\n",
      "LDA: 0.7, SVC: 0.69\n",
      "\n",
      "Accuracy for LDA with Σ1 = 𝐸 and Σ2 = diag(2, 1):\n",
      "LDA: 0.62, SVC: 0.62\n"
     ]
    }
   ],
   "source": [
    "\n",
    "\n",
    "\n",
    "\n",
    "np.random.seed(0)\n",
    "n_samples = 100\n",
    "\n",
    "mean1 = [0, 0]\n",
    "cov1 = np.eye(2)\n",
    "\n",
    "mean2 = [1, 1]\n",
    "cov2 = np.eye(2)\n",
    "\n",
    "data1 = np.random.multivariate_normal(mean1, cov1, n_samples)\n",
    "data2 = np.random.multivariate_normal(mean2, cov2, n_samples)\n",
    "\n",
    "cov2_custom = np.diag([2, 1])\n",
    "\n",
    "data1_custom = np.random.multivariate_normal(mean1, cov1, n_samples)\n",
    "data2_custom = np.random.multivariate_normal(mean2, cov2_custom, n_samples)\n",
    "\n",
    "X1 = np.vstack((data1, data2))\n",
    "y1 = np.hstack((np.zeros(n_samples), np.ones(n_samples)))\n",
    "\n",
    "X2 = np.vstack((data1_custom, data2_custom))\n",
    "y2 = np.hstack((np.zeros(n_samples), np.ones(n_samples)))\n",
    "\n",
    "X1_train, X1_test, y1_train, y1_test = train_test_split(X1, y1, test_size=0.5, random_state=0)\n",
    "X2_train, X2_test, y2_train, y2_test = train_test_split(X2, y2, test_size=0.5, random_state=0)\n",
    "\n",
    "# LDA model\n",
    "lda1 = LinearDiscriminantAnalysis()\n",
    "lda1.fit(X1_train, y1_train)\n",
    "y1_pred_lda = lda1.predict(X1_test)\n",
    "\n",
    "lda2 = LinearDiscriminantAnalysis()\n",
    "lda2.fit(X2_train, y2_train)\n",
    "y2_pred_lda = lda2.predict(X2_test)\n",
    "\n",
    "# SVC model\n",
    "svc1 = SVC(kernel='linear')\n",
    "svc1.fit(X1_train, y1_train)\n",
    "y1_pred_svc = svc1.predict(X1_test)\n",
    "\n",
    "svc2 = SVC(kernel='linear')\n",
    "svc2.fit(X2_train, y2_train)\n",
    "y2_pred_svc = svc2.predict(X2_test)\n",
    "\n",
    "# Calculate accuracy\n",
    "accuracy_lda1 = accuracy_score(y1_test, y1_pred_lda)\n",
    "accuracy_svc1 = accuracy_score(y1_test, y1_pred_svc)\n",
    "\n",
    "accuracy_lda2 = accuracy_score(y2_test, y2_pred_lda)\n",
    "accuracy_svc2 = accuracy_score(y2_test, y2_pred_svc)\n",
    "\n",
    "print(\"Accuracy for LDA with Σ𝑖 = 𝐸 and 𝜇1 =(0,0), 𝜇2 =(1,1):\")\n",
    "print(f\"LDA: {accuracy_lda1}, SVC: {accuracy_svc1}\")\n",
    "\n",
    "print(\"\\nAccuracy for LDA with Σ1 = 𝐸 and Σ2 = diag(2, 1):\")\n",
    "print(f\"LDA: {accuracy_lda2}, SVC: {accuracy_svc2}\")\n",
    "\n",
    "\n"
   ],
   "metadata": {
    "collapsed": false,
    "ExecuteTime": {
     "end_time": "2024-05-06T00:39:10.231218Z",
     "start_time": "2024-05-06T00:39:10.218136Z"
    }
   },
   "id": "349801c53d827735",
   "execution_count": 25
  },
  {
   "cell_type": "code",
   "outputs": [],
   "source": [],
   "metadata": {
    "collapsed": false
   },
   "id": "ec43cca329f5c358"
  }
 ],
 "metadata": {
  "kernelspec": {
   "display_name": "Python 3",
   "language": "python",
   "name": "python3"
  },
  "language_info": {
   "codemirror_mode": {
    "name": "ipython",
    "version": 2
   },
   "file_extension": ".py",
   "mimetype": "text/x-python",
   "name": "python",
   "nbconvert_exporter": "python",
   "pygments_lexer": "ipython2",
   "version": "2.7.6"
  }
 },
 "nbformat": 4,
 "nbformat_minor": 5
}
